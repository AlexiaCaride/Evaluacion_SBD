{
 "cells": [
  {
   "cell_type": "code",
   "execution_count": 4,
   "metadata": {},
   "outputs": [
    {
     "name": "stdout",
     "output_type": "stream",
     "text": [
      "Collecting requests\n",
      "  Using cached requests-2.32.3-py3-none-any.whl.metadata (4.6 kB)\n",
      "Collecting charset-normalizer<4,>=2 (from requests)\n",
      "  Using cached charset_normalizer-3.4.0-cp313-cp313-manylinux_2_17_x86_64.manylinux2014_x86_64.whl.metadata (34 kB)\n",
      "Collecting idna<4,>=2.5 (from requests)\n",
      "  Using cached idna-3.10-py3-none-any.whl.metadata (10 kB)\n",
      "Collecting urllib3<3,>=1.21.1 (from requests)\n",
      "  Using cached urllib3-2.2.3-py3-none-any.whl.metadata (6.5 kB)\n",
      "Collecting certifi>=2017.4.17 (from requests)\n",
      "  Using cached certifi-2024.8.30-py3-none-any.whl.metadata (2.2 kB)\n",
      "Using cached requests-2.32.3-py3-none-any.whl (64 kB)\n",
      "Using cached certifi-2024.8.30-py3-none-any.whl (167 kB)\n",
      "Using cached charset_normalizer-3.4.0-cp313-cp313-manylinux_2_17_x86_64.manylinux2014_x86_64.whl (144 kB)\n",
      "Using cached idna-3.10-py3-none-any.whl (70 kB)\n",
      "Using cached urllib3-2.2.3-py3-none-any.whl (126 kB)\n",
      "Installing collected packages: urllib3, idna, charset-normalizer, certifi, requests\n",
      "Successfully installed certifi-2024.8.30 charset-normalizer-3.4.0 idna-3.10 requests-2.32.3 urllib3-2.2.3\n"
     ]
    }
   ],
   "source": [
    "!pip install requests"
   ]
  },
  {
   "cell_type": "code",
   "execution_count": 1,
   "metadata": {},
   "outputs": [],
   "source": [
    "import requests"
   ]
  },
  {
   "cell_type": "code",
   "execution_count": 2,
   "metadata": {},
   "outputs": [
    {
     "data": {
      "text/plain": [
       "<Response [200]>"
      ]
     },
     "execution_count": 2,
     "metadata": {},
     "output_type": "execute_result"
    }
   ],
   "source": [
    "endpoint= \"http://api.citybik.es//v2/networks/bicicorunha\"\n",
    "requests.get(endpoint)\n"
   ]
  },
  {
   "cell_type": "code",
   "execution_count": 7,
   "metadata": {},
   "outputs": [
    {
     "name": "stdout",
     "output_type": "stream",
     "text": [
      "Collecting pymongo\n",
      "  Using cached pymongo-4.10.1-cp313-cp313-manylinux_2_17_x86_64.manylinux2014_x86_64.whl.metadata (22 kB)\n",
      "Collecting dnspython<3.0.0,>=1.16.0 (from pymongo)\n",
      "  Using cached dnspython-2.7.0-py3-none-any.whl.metadata (5.8 kB)\n",
      "Using cached pymongo-4.10.1-cp313-cp313-manylinux_2_17_x86_64.manylinux2014_x86_64.whl (2.2 MB)\n",
      "Using cached dnspython-2.7.0-py3-none-any.whl (313 kB)\n",
      "Installing collected packages: dnspython, pymongo\n",
      "Successfully installed dnspython-2.7.0 pymongo-4.10.1\n",
      "Collecting schedule\n",
      "  Using cached schedule-1.2.2-py3-none-any.whl.metadata (3.8 kB)\n",
      "Using cached schedule-1.2.2-py3-none-any.whl (12 kB)\n",
      "Installing collected packages: schedule\n",
      "Successfully installed schedule-1.2.2\n"
     ]
    }
   ],
   "source": [
    "!pip install pymongo\n",
    "!pip install schedule"
   ]
  },
  {
   "cell_type": "code",
   "execution_count": null,
   "metadata": {},
   "outputs": [
    {
     "name": "stdout",
     "output_type": "stream",
     "text": [
      "\n",
      "Desconexión manual detectada. El script fue detenido correctamente.\n"
     ]
    }
   ],
   "source": [
    "import requests\n",
    "import pymongo\n",
    "import schedule\n",
    "import time\n",
    "from datetime import datetime\n",
    "\n",
    "def get_mongo_client():\n",
    "    try:\n",
    "        client = pymongo.MongoClient(\"mongodb://localhost:27017/\")\n",
    "        return client\n",
    "    except pymongo.errors.ConnectionFailure as e:\n",
    "        print(f\"Error de conexión con MongoDB: {e}\")\n",
    "        return None\n",
    "\n",
    "client = get_mongo_client()\n",
    "if client:\n",
    "    db = client[\"bicicorunha_db\"]\n",
    "    collection = db[\"data\"]\n",
    "else:\n",
    "    print(\"No se pudo conectar a MongoDB.\")\n",
    "    exit(1)\n",
    "\n",
    "def fetch_and_store_data():\n",
    "    url = \"http://api.citybik.es/v2/networks/bicicorunha\"\n",
    "    try:\n",
    "        response = requests.get(url)\n",
    "        response.raise_for_status()  # Lanza un erro se a resposta non é exitosa\n",
    "        data = response.json()\n",
    "\n",
    "        # Engadimos a data e hora\n",
    "        data['timestamp'] = datetime.now().isoformat()\n",
    "\n",
    "        # Gardamos os datos en MongoDB\n",
    "        collection.insert_one(data)\n",
    "        print(f\"Datos guardados correctamente en MongoDB: {data['timestamp']}\")\n",
    "    except requests.exceptions.RequestException as e:\n",
    "        print(f\"Error al conectar a la API: {e}\")\n",
    "    except Exception as e:\n",
    "        print(f\"Error al guardar los datos en MongoDB: {e}\")\n",
    "\n",
    "# Programamos a execución a intervalos de 3 minutos\n",
    "schedule.every(3).minutes.do(fetch_and_store_data)\n",
    "\n",
    "# Mantemos o script en execución\n",
    "try:\n",
    "    while True:\n",
    "        schedule.run_pending()  # Executa as tarefas programadas se é necesario\n",
    "        time.sleep(1)  # Espera 1 segundo antes de comprobar de novo\n",
    "except KeyboardInterrupt:\n",
    "    # Aquí manejamos la desconexión manual\n",
    "    print(\"\\nDesconexión manual detectada. El script fue detenido correctamente.\")\n"
   ]
  },
  {
   "cell_type": "code",
   "execution_count": 5,
   "metadata": {},
   "outputs": [
    {
     "name": "stdout",
     "output_type": "stream",
     "text": [
      "Datos exportados correctamente a bicicorunha_data.csv\n",
      "Datos exportados correctamente a bicicorunha_data.parquet\n"
     ]
    }
   ],
   "source": [
    "import pandas as pd\n",
    "import pymongo\n",
    "\n",
    "def get_mongo_client():\n",
    "    try:\n",
    "        client = pymongo.MongoClient(\"mongodb://localhost:27017/\")\n",
    "        return client\n",
    "    except pymongo.errors.ConnectionFailure as e:\n",
    "        print(f\"Error de conexión con MongoDB: {e}\")\n",
    "        return None\n",
    "\n",
    "client = get_mongo_client()\n",
    "if client:\n",
    "    db = client[\"bicicorunha_db\"]\n",
    "    collection = db[\"data\"]\n",
    "else:\n",
    "    print(\"No se pudo conectar a MongoDB, saíndo.\")\n",
    "    exit(1)\n",
    "\n",
    "try:\n",
    "    documents = collection.find()\n",
    "\n",
    "    data = []\n",
    "    for doc in documents:\n",
    "        for station in doc['network']['stations']:\n",
    "            data.append({\n",
    "                \"id\": station.get(\"id\"),\n",
    "                \"name\": station.get(\"name\"),\n",
    "                \"timestamp\": doc.get(\"timestamp\"),\n",
    "                \"free_bikes\": station.get(\"free_bikes\"),\n",
    "                \"empty_slots\": station.get(\"empty_slots\"),\n",
    "                \"uid\": station.get(\"extra\", {}).get(\"uid\"),\n",
    "                \"last_updated\": station.get(\"extra\", {}).get(\"last_updated\"),\n",
    "                \"slots\": station.get(\"extra\", {}).get(\"slots\"),\n",
    "                \"normal_bikes\": station.get(\"extra\", {}).get(\"normal_bikes\"),\n",
    "                \"ebikes\": station.get(\"extra\", {}).get(\"ebikes\")\n",
    "            })\n",
    "\n",
    "    df = pd.DataFrame(data)\n",
    "\n",
    "    if not df.empty:\n",
    "        csv_filename = \"bicicorunha_data.csv\"\n",
    "        df.to_csv(csv_filename, index=False)\n",
    "        print(f\"Datos exportados correctamente a {csv_filename}\")\n",
    "\n",
    "        parquet_filename = \"bicicorunha_data.parquet\"\n",
    "        df.to_parquet(parquet_filename, index=False)\n",
    "        print(f\"Datos exportados correctamente a {parquet_filename}\")\n",
    "    else:\n",
    "        print(\"No se encontraron datos para exportar.\")\n",
    "\n",
    "except Exception as e:\n",
    "    print(f\"Error al procesar los datos: {e}\")"
   ]
  },
  {
   "cell_type": "code",
   "execution_count": null,
   "metadata": {},
   "outputs": [],
   "source": [
    "version: '3.8'\n",
    "\n",
    "services:\n",
    "  mongo:\n",
    "    image: mongo:latest\n",
    "    container_name: mongoBicis\n",
    "    ports:\n",
    "      - \"27017:27017\"  \n",
    "    networks:\n",
    "      - bici_network\n",
    "    volumes:\n",
    "      - mongo_data:/data/db \n",
    "\n",
    "  scripts:\n",
    "    build:\n",
    "      context: ./scripts  \n",
    "    container_name: script_runner\n",
    "    networks:\n",
    "      - bici_network\n",
    "    volumes:\n",
    "      - ./scripts:/usr/src/app  \n",
    "    environment:\n",
    "      MONGO_HOST: mongoBicis\n",
    "      MONGO_PORT: 27017"
   ]
  }
 ],
 "metadata": {
  "kernelspec": {
   "display_name": "bicis",
   "language": "python",
   "name": "python3"
  },
  "language_info": {
   "codemirror_mode": {
    "name": "ipython",
    "version": 3
   },
   "file_extension": ".py",
   "mimetype": "text/x-python",
   "name": "python",
   "nbconvert_exporter": "python",
   "pygments_lexer": "ipython3",
   "version": "3.13.0"
  }
 },
 "nbformat": 4,
 "nbformat_minor": 2
}
